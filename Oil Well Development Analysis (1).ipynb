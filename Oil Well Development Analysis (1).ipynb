{
 "cells": [
  {
   "cell_type": "markdown",
   "metadata": {},
   "source": [
    "\"Oil Well Development Analysis: Maximizing Profitability through Predictive Modeling and Risk Assessment\"\n",
    "\n",
    "\n",
    "\n",
    "\n"
   ]
  },
  {
   "cell_type": "markdown",
   "metadata": {},
   "source": [
    "Introduction:\n",
    "\n",
    "The oil and gas industry plays a vital role in the global economy, and efficient exploration and development of oil wells are crucial for maximizing profitability. In this project, we aim to leverage predictive modeling and risk assessment techniques to identify the most promising regions for oil well development.\n",
    "\n",
    "The project focuses on three distinct regions, each containing geological exploration data stored in separate files. These files provide information on unique oil well identifiers, as well as three significant features of points. The volume of reserves in each oil well is also included, serving as the target variable for our analysis."
   ]
  },
  {
   "cell_type": "code",
   "execution_count": 21,
   "metadata": {},
   "outputs": [],
   "source": [
    "import pandas as pd\n",
    "from sklearn.model_selection import train_test_split\n",
    "from sklearn.linear_model import LinearRegression\n",
    "from sklearn.metrics import mean_squared_error\n",
    "import numpy as np\n",
    "import pandas as pd\n"
   ]
  },
  {
   "cell_type": "code",
   "execution_count": 22,
   "metadata": {},
   "outputs": [],
   "source": [
    "# Load the data\n",
    "data_0 = pd.read_csv('/datasets/geo_data_0.csv')\n",
    "data_1= pd.read_csv('/datasets/geo_data_1.csv')\n",
    "data_2 = pd.read_csv('/datasets/geo_data_2.csv')\n",
    "\n",
    "\n"
   ]
  },
  {
   "cell_type": "code",
   "execution_count": 23,
   "metadata": {},
   "outputs": [
    {
     "name": "stdout",
     "output_type": "stream",
     "text": [
      "      id        f0        f1        f2     product\n",
      "0  txEyH  0.705745 -0.497823  1.221170  105.280062\n",
      "1  2acmU  1.334711 -0.340164  4.365080   73.037750\n",
      "2  409Wp  1.022732  0.151990  1.419926   85.265647\n",
      "3  iJLyR -0.032172  0.139033  2.978566  168.620776\n",
      "4  Xdl7t  1.988431  0.155413  4.751769  154.036647\n"
     ]
    }
   ],
   "source": [
    "print(data_0.head()) \n"
   ]
  },
  {
   "cell_type": "code",
   "execution_count": 24,
   "metadata": {},
   "outputs": [
    {
     "name": "stdout",
     "output_type": "stream",
     "text": [
      "<class 'pandas.core.frame.DataFrame'>\n",
      "RangeIndex: 100000 entries, 0 to 99999\n",
      "Data columns (total 5 columns):\n",
      " #   Column   Non-Null Count   Dtype  \n",
      "---  ------   --------------   -----  \n",
      " 0   id       100000 non-null  object \n",
      " 1   f0       100000 non-null  float64\n",
      " 2   f1       100000 non-null  float64\n",
      " 3   f2       100000 non-null  float64\n",
      " 4   product  100000 non-null  float64\n",
      "dtypes: float64(4), object(1)\n",
      "memory usage: 3.8+ MB\n"
     ]
    }
   ],
   "source": [
    "data_0.info()"
   ]
  },
  {
   "cell_type": "code",
   "execution_count": 25,
   "metadata": {},
   "outputs": [
    {
     "data": {
      "text/plain": [
       "id         0\n",
       "f0         0\n",
       "f1         0\n",
       "f2         0\n",
       "product    0\n",
       "dtype: int64"
      ]
     },
     "execution_count": 25,
     "metadata": {},
     "output_type": "execute_result"
    }
   ],
   "source": [
    "data_0.isnull().sum()"
   ]
  },
  {
   "cell_type": "markdown",
   "metadata": {},
   "source": [
    "df_1.isnull().sum()"
   ]
  },
  {
   "cell_type": "code",
   "execution_count": 26,
   "metadata": {
    "scrolled": true
   },
   "outputs": [
    {
     "data": {
      "text/plain": [
       "id         0\n",
       "f0         0\n",
       "f1         0\n",
       "f2         0\n",
       "product    0\n",
       "dtype: int64"
      ]
     },
     "execution_count": 26,
     "metadata": {},
     "output_type": "execute_result"
    }
   ],
   "source": [
    "data_2.isnull().sum()"
   ]
  },
  {
   "cell_type": "code",
   "execution_count": 27,
   "metadata": {},
   "outputs": [
    {
     "name": "stdout",
     "output_type": "stream",
     "text": [
      "Average Volume of Predicted Reserves: 92.3987999065777\n",
      "Model RMSE: 37.756600350261685\n",
      "Average Volume of Predicted Reserves: 68.71287803913762\n",
      "Model RMSE: 0.890280100102884\n",
      "Average Volume of Predicted Reserves: 94.77102387765939\n",
      "Model RMSE: 40.14587231134218\n"
     ]
    }
   ],
   "source": [
    "def train_and_evaluate_model(data):\n",
    "\n",
    "    X = data.drop(['id', 'product'], axis=1)\n",
    "    y = data['product']\n",
    "    X_train, X_val, y_train, y_val = train_test_split(X, y, test_size=0.25, random_state=42)\n",
    "\n",
    "    model = LinearRegression()\n",
    "    model.fit(X_train, y_train)\n",
    "    y_pred = model.predict(X_val)\n",
    "\n",
    "   \n",
    "    predictions = pd.DataFrame({'Prediction': y_pred, 'Actual': y_val})\n",
    "\n",
    "    # 2.4. Calculating Average Volume and RMSE\n",
    "    average_volume = np.mean(y_pred)\n",
    "    rmse = np.sqrt(mean_squared_error(y_val, y_pred))\n",
    "\n",
    "    # 2.5. Analyzing the Results\n",
    "    print(\"Average Volume of Predicted Reserves:\", average_volume)\n",
    "    print(\"Model RMSE:\", rmse)\n",
    "    \n",
    "    return predictions\n",
    "\n",
    "predictions_0 = train_and_evaluate_model(data_0)\n",
    "predictions_1 = train_and_evaluate_model(data_1)\n",
    "predictions_2 = train_and_evaluate_model(data_2)"
   ]
  },
  {
   "cell_type": "markdown",
   "metadata": {},
   "source": [
    "After training and evaluating the model for each region, we obtained the following results:\n",
    "\n",
    "Region 0:\n",
    "- Average Volume of Predicted Reserves: 92.3987999065777\n",
    "- Model RMSE: 37.756600350261685\n",
    "\n",
    "Region 1:\n",
    "- Average Volume of Predicted Reserves: 68.71287803913762\n",
    "- Model RMSE: 0.890280100102884\n",
    "\n",
    "Region 2:\n",
    "- Average Volume of Predicted Reserves: 94.77102387765939\n",
    "- Model RMSE: 40.14587231134218\n",
    "\n",
    "For Region 0, the average volume of predicted reserves is approximately 92.4 thousand barrels. The model's root mean squared error (RMSE) is around 37.8, indicating that the predictions may have a considerable deviation from the actual values.\n",
    "\n",
    "In Region 1, the average volume of predicted reserves is about 68.7 thousand barrels. The model's RMSE is very low at around 0.89, suggesting that the predictions are quite accurate and closely aligned with the actual values.\n",
    "\n",
    "Region 2 shows an average volume of predicted reserves of approximately 94.8 thousand barrels. The model's RMSE is approximately 40.1, implying that the predictions may have a notable level of error compared to the true values.\n",
    "\n",
    "Based on these results, it seems that Region 1 has the lowest RMSE and relatively high average volume of predicted reserves, indicating that the model performs well in this region. However, further analysis is required to make a decision regarding the selection of the region with the highest profit margin.\n"
   ]
  },
  {
   "cell_type": "code",
   "execution_count": 28,
   "metadata": {
    "scrolled": true
   },
   "outputs": [
    {
     "name": "stdout",
     "output_type": "stream",
     "text": [
      "Threshold Value: 22222.222222222223\n",
      "Average Volumes: [92.3987999065777, 68.71287803913762, 94.77102387765939]\n"
     ]
    }
   ],
   "source": [
    "# Step 3: Prepare for Profit Calculation\n",
    "budget = 100_000_000  # Budget for oil well development in USD\n",
    "revenue_per_barrel = 4_500  # Revenue per barrel in USD\n",
    "\n",
    "threshold = budget / revenue_per_barrel\n",
    "average_volumes = [predictions_0['Prediction'].mean(), predictions_1['Prediction'].mean(), predictions_2['Prediction'].mean()]\n",
    "\n",
    "print(\"Threshold Value:\", threshold)\n",
    "print(\"Average Volumes:\", average_volumes)"
   ]
  },
  {
   "cell_type": "markdown",
   "metadata": {},
   "source": [
    "Step 4: Calculate Profit from Selected Oil Wells and Model Predictions"
   ]
  },
  {
   "cell_type": "code",
   "execution_count": 29,
   "metadata": {},
   "outputs": [
    {
     "name": "stdout",
     "output_type": "stream",
     "text": [
      "Profit for Region 0: 33591411.14462179\n",
      "Profit for Region 1: 24150866.966815114\n",
      "Profit for Region 2: 25985717.59374112\n"
     ]
    }
   ],
   "source": [
    "\n",
    "def calculate_profit(predictions):\n",
    "    # 4.1. Select Wells with Highest Predictions\n",
    "    selected_wells = predictions.nlargest(200, 'Prediction')\n",
    "\n",
    "    # 4.2. Summarize Target Volume\n",
    "    target_volume = selected_wells['Actual'].sum()\n",
    "\n",
    "    # 4.3. Findings\n",
    "    profit = (target_volume * revenue_per_barrel) - budget\n",
    "    return profit\n",
    "\n",
    "profit_0 = calculate_profit(predictions_0)\n",
    "profit_1 = calculate_profit(predictions_1)\n",
    "profit_2 = calculate_profit(predictions_2)\n",
    "\n",
    "print(\"Profit for Region 0:\", profit_0)\n",
    "print(\"Profit for Region 1:\", profit_1)\n",
    "print(\"Profit for Region 2:\", profit_2)"
   ]
  },
  {
   "cell_type": "code",
   "execution_count": 30,
   "metadata": {},
   "outputs": [
    {
     "name": "stdout",
     "output_type": "stream",
     "text": [
      "<function calculate_profit at 0x7f55dd9318b0>\n"
     ]
    }
   ],
   "source": [
    "print(calculate_profit)"
   ]
  },
  {
   "cell_type": "markdown",
   "metadata": {},
   "source": [
    "After calculating the profits from selected oil wells and model predictions, we obtained the following results:\n",
    "\n",
    "Region 0:\n",
    "- Profit: 33,591,411.14 USD\n",
    "\n",
    "Region 1:\n",
    "- Profit: 24,150,866.97 USD\n",
    "\n",
    "Region 2:\n",
    "- Profit: 25,985,717.59 USD\n",
    "\n",
    "Based on these profit calculations, Region 0 has the highest estimated profit among the three regions, with a profit of approximately 33.6 million USD. Region 2 follows closely behind with a profit of around 26 million USD, and Region 1 has the lowest estimated profit at about 24.2 million USD.\n",
    "\n",
    "Therefore, if we solely consider the profit values, Region 0 appears to be the most promising choice for oil well development due to its higher potential profitability. However, it is crucial to note that other factors, such as risks and uncertainties, need to be considered before making a final decision.\n",
    "\n"
   ]
  },
  {
   "cell_type": "markdown",
   "metadata": {},
   "source": [
    " Step 5: Calculate Risks and Profit for Each Region"
   ]
  },
  {
   "cell_type": "code",
   "execution_count": 31,
   "metadata": {},
   "outputs": [
    {
     "name": "stdout",
     "output_type": "stream",
     "text": [
      "Region 0:\n",
      "Average Profit: -16906296.373642936\n",
      "Confidence Interval: [-22101553.30056624 -11701227.26251526]\n",
      "Risk of Loss: 1.0\n",
      "Region 1:\n",
      "Average Profit: -38091634.64643422\n",
      "Confidence Interval: [-44175727.49792942 -32544374.24889251]\n",
      "Risk of Loss: 1.0\n",
      "Region 2:\n",
      "Average Profit: -14300720.646929419\n",
      "Confidence Interval: [-19598121.20799231  -8888228.10924703]\n",
      "Risk of Loss: 1.0\n"
     ]
    }
   ],
   "source": [
    "\n",
    "def calculate_bootstrap_profit(predictions):\n",
    "    profits = []\n",
    "    np.random.seed(42)  # Set seed for reproducibility\n",
    "\n",
    "    for _ in range(1000):\n",
    "        bootstrap_sample = predictions.sample(n=200, replace=True)\n",
    "        profit = calculate_profit(bootstrap_sample)\n",
    "        profits.append(profit)\n",
    "\n",
    "    average_profit = np.mean(profits)\n",
    "    confidence_interval = np.percentile(profits, [2.5, 97.5])\n",
    "    risk_of_loss = np.mean(np.array(profits) < 0)\n",
    "\n",
    "    return average_profit, confidence_interval, risk_of_loss\n",
    "\n",
    "avg_profit_0, conf_interval_0, risk_loss_0 = calculate_bootstrap_profit(predictions_0)\n",
    "avg_profit_1, conf_interval_1, risk_loss_1 = calculate_bootstrap_profit(predictions_1)\n",
    "avg_profit_2, conf_interval_2, risk_loss_2 = calculate_bootstrap_profit(predictions_2)\n",
    "\n",
    "print(\"Region 0:\")\n",
    "print(\"Average Profit:\", avg_profit_0)\n",
    "print(\"Confidence Interval:\", conf_interval_0)\n",
    "print(\"Risk of Loss:\", risk_loss_0)\n",
    "\n",
    "print(\"Region 1:\")\n",
    "print(\"Average Profit:\", avg_profit_1)\n",
    "print(\"Confidence Interval:\", conf_interval_1)\n",
    "print(\"Risk of Loss:\", risk_loss_1)\n",
    "\n",
    "print(\"Region 2:\")\n",
    "print(\"Average Profit:\", avg_profit_2)\n",
    "print(\"Confidence Interval:\", conf_interval_2)\n",
    "print(\"Risk of Loss:\", risk_loss_2)\n"
   ]
  },
  {
   "cell_type": "markdown",
   "metadata": {},
   "source": [
    "After applying the bootstrap technique to calculate risks and profit for each region, we obtained the following results:\n",
    "\n",
    "Region 0:\n",
    "- Average Profit: -16,906,296.37 USD\n",
    "- Confidence Interval: [-22,101,553.30, -11,701,227.26] USD\n",
    "- Risk of Loss: 100%\n",
    "\n",
    "Region 1:\n",
    "- Average Profit: -38,091,634.65 USD\n",
    "- Confidence Interval: [-44,175,727.50, -32,544,374.25] USD\n",
    "- Risk of Loss: 100%\n",
    "\n",
    "Region 2:\n",
    "- Average Profit: -14,300,720.65 USD\n",
    "- Confidence Interval: [-19,598,121.21, -8,888,228.11] USD\n",
    "- Risk of Loss: 100%\n",
    "\n",
    "From these results, we can observe that all three regions have a risk of loss (negative profit) of 100%. The average profit values for all regions are negative, indicating that the expected profits are below zero.\n",
    "\n",
    "Considering the high risk of loss and negative average profits, it is advisable to reconsider the decision of developing oil wells in any of these regions. Further analysis, exploration, or consideration of other factors may be necessary to identify more viable and profitable opportunities.\n",
    "\n"
   ]
  },
  {
   "cell_type": "markdown",
   "metadata": {},
   "source": [
    "conclusions"
   ]
  },
  {
   "cell_type": "markdown",
   "metadata": {},
   "source": [
    "Based on the analysis conducted, the following conclusions can be drawn:\n",
    "\n",
    "1. Model Performance: The linear regression models trained for each region showed varying performance. Region 1 exhibited the best model performance, with the lowest RMSE and accurate predictions. In contrast, Regions 0 and 2 had higher RMSE values, suggesting less accurate predictions.\n",
    "\n",
    "2. Profitability Analysis: When considering the average volume of predicted reserves and profit calculations, Region 0 demonstrated the highest estimated profit among the three regions. However, it is important to note that all regions had negative average profits and a 100% risk of loss, indicating that the expected profitability for oil well development in these regions is unfavorable.\n",
    "\n",
    "3. Risk Evaluation: The bootstrap technique revealed a high risk of loss for all regions, with negative average profits and confidence intervals that did not exceed zero. This implies that the projected profits are uncertain and may not offset the investment costs.\n",
    "\n",
    "Based on these findings, it is recommended to reconsider the decision to develop oil wells in the analyzed regions. Further exploration and analysis, including a deeper assessment of geological conditions, market dynamics, and cost considerations, are necessary to identify more promising and profitable opportunities. It is essential to conduct a comprehensive evaluation and seek expert advice before making any investment decisions in the oil and gas industry.\n"
   ]
  },
  {
   "cell_type": "code",
   "execution_count": null,
   "metadata": {},
   "outputs": [],
   "source": []
  },
  {
   "cell_type": "code",
   "execution_count": null,
   "metadata": {},
   "outputs": [],
   "source": []
  },
  {
   "cell_type": "code",
   "execution_count": null,
   "metadata": {},
   "outputs": [],
   "source": []
  },
  {
   "cell_type": "code",
   "execution_count": null,
   "metadata": {},
   "outputs": [],
   "source": []
  }
 ],
 "metadata": {
  "kernelspec": {
   "display_name": "Python 3 (ipykernel)",
   "language": "python",
   "name": "python3"
  },
  "language_info": {
   "codemirror_mode": {
    "name": "ipython",
    "version": 3
   },
   "file_extension": ".py",
   "mimetype": "text/x-python",
   "name": "python",
   "nbconvert_exporter": "python",
   "pygments_lexer": "ipython3",
   "version": "3.9.5"
  },
  "toc": {
   "base_numbering": 1,
   "nav_menu": {},
   "number_sections": true,
   "sideBar": true,
   "skip_h1_title": true,
   "title_cell": "Table of Contents",
   "title_sidebar": "Contents",
   "toc_cell": false,
   "toc_position": {},
   "toc_section_display": true,
   "toc_window_display": false
  }
 },
 "nbformat": 4,
 "nbformat_minor": 2
}
